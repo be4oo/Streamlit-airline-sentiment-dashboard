{
 "cells": [
  {
   "cell_type": "markdown",
   "metadata": {},
   "source": [
    "convert it to organized notebook with splitting it to cells"
   ]
  },
  {
   "cell_type": "markdown",
   "metadata": {},
   "source": [
    "# Sentiment Analysis of Tweets about US Airlines\n",
    "This notebook demonstrates a sentiment analysis of tweets about US airlines using Streamlit, Pandas, Plotly, and other libraries. The analysis includes loading data, visualizing tweet sentiments, and generating word clouds based on tweet sentiment."
   ]
  },
  {
   "cell_type": "code",
   "execution_count": 10,
   "metadata": {},
   "outputs": [],
   "source": [
    "# Import necessary libraries\n",
    "import streamlit as st\n",
    "import pandas as pd\n",
    "import numpy as np\n",
    "import plotly.express as px\n",
    "from plotly.subplots import make_subplots\n",
    "import plotly.graph_objects as go\n",
    "from wordcloud import WordCloud, STOPWORDS\n",
    "import matplotlib.pyplot as plt"
   ]
  },
  {
   "cell_type": "code",
   "execution_count": 19,
   "metadata": {},
   "outputs": [
    {
     "name": "stderr",
     "output_type": "stream",
     "text": [
      "2024-07-18 12:27:16.750 \n",
      "`st.cache` is deprecated and will be removed soon. Please use one of Streamlit's new caching commands, `st.cache_data` or `st.cache_resource`.\n",
      "More information [in our docs](https://docs.streamlit.io/develop/concepts/architecture/caching).\n",
      "\n",
      "**Note**: The behavior of `st.cache` was updated in Streamlit 1.36 to the new caching logic used by `st.cache_data` and `st.cache_resource`.\n",
      "This might lead to some problems or unexpected behavior in certain edge cases.\n",
      "\n",
      "2024-07-18 12:27:16.754 No runtime found, using MemoryCacheStorageManager\n"
     ]
    },
    {
     "data": {
      "text/html": [
       "<div>\n",
       "<style scoped>\n",
       "    .dataframe tbody tr th:only-of-type {\n",
       "        vertical-align: middle;\n",
       "    }\n",
       "\n",
       "    .dataframe tbody tr th {\n",
       "        vertical-align: top;\n",
       "    }\n",
       "\n",
       "    .dataframe thead th {\n",
       "        text-align: right;\n",
       "    }\n",
       "</style>\n",
       "<table border=\"1\" class=\"dataframe\">\n",
       "  <thead>\n",
       "    <tr style=\"text-align: right;\">\n",
       "      <th></th>\n",
       "      <th>tweet_id</th>\n",
       "      <th>airline_sentiment</th>\n",
       "      <th>airline_sentiment_confidence</th>\n",
       "      <th>negativereason</th>\n",
       "      <th>negativereason_confidence</th>\n",
       "      <th>airline</th>\n",
       "      <th>name</th>\n",
       "      <th>retweet_count</th>\n",
       "      <th>text</th>\n",
       "      <th>tweet_created</th>\n",
       "      <th>latitude</th>\n",
       "      <th>longitude</th>\n",
       "    </tr>\n",
       "  </thead>\n",
       "  <tbody>\n",
       "    <tr>\n",
       "      <th>0</th>\n",
       "      <td>5.703061e+17</td>\n",
       "      <td>neutral</td>\n",
       "      <td>1.0000</td>\n",
       "      <td>NaN</td>\n",
       "      <td>NaN</td>\n",
       "      <td>Virgin America</td>\n",
       "      <td>cairdin</td>\n",
       "      <td>0</td>\n",
       "      <td>@VirginAmerica What @dhepburn said.</td>\n",
       "      <td>2015-02-24 11:35:52-08:00</td>\n",
       "      <td>35.888455</td>\n",
       "      <td>-119.273781</td>\n",
       "    </tr>\n",
       "    <tr>\n",
       "      <th>1</th>\n",
       "      <td>5.703011e+17</td>\n",
       "      <td>positive</td>\n",
       "      <td>0.3486</td>\n",
       "      <td>NaN</td>\n",
       "      <td>0.0000</td>\n",
       "      <td>Virgin America</td>\n",
       "      <td>jnardino</td>\n",
       "      <td>0</td>\n",
       "      <td>@VirginAmerica plus you've added commercials t...</td>\n",
       "      <td>2015-02-24 11:15:59-08:00</td>\n",
       "      <td>37.770971</td>\n",
       "      <td>-119.941025</td>\n",
       "    </tr>\n",
       "    <tr>\n",
       "      <th>2</th>\n",
       "      <td>5.703011e+17</td>\n",
       "      <td>neutral</td>\n",
       "      <td>0.6837</td>\n",
       "      <td>NaN</td>\n",
       "      <td>NaN</td>\n",
       "      <td>Virgin America</td>\n",
       "      <td>yvonnalynn</td>\n",
       "      <td>0</td>\n",
       "      <td>@VirginAmerica I didn't today... Must mean I n...</td>\n",
       "      <td>2015-02-24 11:15:48-08:00</td>\n",
       "      <td>35.684863</td>\n",
       "      <td>-119.709299</td>\n",
       "    </tr>\n",
       "    <tr>\n",
       "      <th>3</th>\n",
       "      <td>5.703010e+17</td>\n",
       "      <td>negative</td>\n",
       "      <td>1.0000</td>\n",
       "      <td>Bad Flight</td>\n",
       "      <td>0.7033</td>\n",
       "      <td>Virgin America</td>\n",
       "      <td>jnardino</td>\n",
       "      <td>0</td>\n",
       "      <td>@VirginAmerica it's really aggressive to blast...</td>\n",
       "      <td>2015-02-24 11:15:36-08:00</td>\n",
       "      <td>37.061159</td>\n",
       "      <td>-119.279135</td>\n",
       "    </tr>\n",
       "    <tr>\n",
       "      <th>4</th>\n",
       "      <td>5.703008e+17</td>\n",
       "      <td>negative</td>\n",
       "      <td>1.0000</td>\n",
       "      <td>Can't Tell</td>\n",
       "      <td>1.0000</td>\n",
       "      <td>Virgin America</td>\n",
       "      <td>jnardino</td>\n",
       "      <td>0</td>\n",
       "      <td>@VirginAmerica and it's a really big bad thing...</td>\n",
       "      <td>2015-02-24 11:14:45-08:00</td>\n",
       "      <td>36.790587</td>\n",
       "      <td>-120.867752</td>\n",
       "    </tr>\n",
       "  </tbody>\n",
       "</table>\n",
       "</div>"
      ],
      "text/plain": [
       "       tweet_id airline_sentiment  airline_sentiment_confidence  \\\n",
       "0  5.703061e+17           neutral                        1.0000   \n",
       "1  5.703011e+17          positive                        0.3486   \n",
       "2  5.703011e+17           neutral                        0.6837   \n",
       "3  5.703010e+17          negative                        1.0000   \n",
       "4  5.703008e+17          negative                        1.0000   \n",
       "\n",
       "  negativereason  negativereason_confidence         airline        name  \\\n",
       "0            NaN                        NaN  Virgin America     cairdin   \n",
       "1            NaN                     0.0000  Virgin America    jnardino   \n",
       "2            NaN                        NaN  Virgin America  yvonnalynn   \n",
       "3     Bad Flight                     0.7033  Virgin America    jnardino   \n",
       "4     Can't Tell                     1.0000  Virgin America    jnardino   \n",
       "\n",
       "   retweet_count                                               text  \\\n",
       "0              0                @VirginAmerica What @dhepburn said.   \n",
       "1              0  @VirginAmerica plus you've added commercials t...   \n",
       "2              0  @VirginAmerica I didn't today... Must mean I n...   \n",
       "3              0  @VirginAmerica it's really aggressive to blast...   \n",
       "4              0  @VirginAmerica and it's a really big bad thing...   \n",
       "\n",
       "              tweet_created   latitude   longitude  \n",
       "0 2015-02-24 11:35:52-08:00  35.888455 -119.273781  \n",
       "1 2015-02-24 11:15:59-08:00  37.770971 -119.941025  \n",
       "2 2015-02-24 11:15:48-08:00  35.684863 -119.709299  \n",
       "3 2015-02-24 11:15:36-08:00  37.061159 -119.279135  \n",
       "4 2015-02-24 11:14:45-08:00  36.790587 -120.867752  "
      ]
     },
     "execution_count": 19,
     "metadata": {},
     "output_type": "execute_result"
    }
   ],
   "source": [
    "# Load and preprocess data\n",
    "DATA_URL = \"Tweets.csv\"\n",
    "\n",
    "@st.cache(persist=True)\n",
    "def load_data():\n",
    "    data = pd.read_csv(DATA_URL)\n",
    "    data['tweet_created'] = pd.to_datetime(data['tweet_created'])\n",
    "    return data\n",
    "\n",
    "data = load_data()\n",
    "data.head()"
   ]
  },
  {
   "cell_type": "code",
   "execution_count": 12,
   "metadata": {},
   "outputs": [
    {
     "name": "stderr",
     "output_type": "stream",
     "text": [
      "2024-07-18 12:26:37.124 \n",
      "`st.cache` is deprecated and will be removed soon. Please use one of Streamlit's new caching commands, `st.cache_data` or `st.cache_resource`.\n",
      "More information [in our docs](https://docs.streamlit.io/develop/concepts/architecture/caching).\n",
      "\n",
      "**Note**: The behavior of `st.cache` was updated in Streamlit 1.36 to the new caching logic used by `st.cache_data` and `st.cache_resource`.\n",
      "This might lead to some problems or unexpected behavior in certain edge cases.\n",
      "\n",
      "2024-07-18 12:26:37.124 No runtime found, using MemoryCacheStorageManager\n"
     ]
    }
   ],
   "source": [
    "# Function to plot sentiment counts for a specific airline\n",
    "@st.cache(persist=True)\n",
    "def plot_sentiment(airline):\n",
    "    df = data[data['airline'] == airline]\n",
    "    count = df['airline_sentiment'].value_counts()\n",
    "    count = pd.DataFrame({'Sentiment': count.index, 'Tweets': count.values.flatten()})\n",
    "    return count"
   ]
  },
  {
   "cell_type": "code",
   "execution_count": 13,
   "metadata": {},
   "outputs": [],
   "source": [
    "# Streamlit sidebar options\n",
    "st.sidebar.subheader(\"Show random tweet\")\n",
    "random_tweet = st.sidebar.radio('Sentiment', ('positive', 'neutral', 'negative'))\n",
    "st.sidebar.markdown(data.query(\"airline_sentiment == @random_tweet\")[[\"text\"]].sample(n=1).iat[0, 0])\n",
    "\n",
    "st.sidebar.markdown(\"### Number of tweets by sentiment\")\n",
    "select = st.sidebar.selectbox('Visualization type', ['Bar plot', 'Pie chart'], key='1')"
   ]
  },
  {
   "cell_type": "code",
   "execution_count": 14,
   "metadata": {},
   "outputs": [],
   "source": [
    "# Visualization of number of tweets by sentiment\n",
    "sentiment_count = data['airline_sentiment'].value_counts()\n",
    "sentiment_count = pd.DataFrame({'Sentiment': sentiment_count.index, 'Tweets': sentiment_count.values})\n",
    "if not st.sidebar.checkbox(\"Hide\", True):\n",
    "    st.markdown(\"### Number of tweets by sentiment\")\n",
    "    if select == 'Bar plot':\n",
    "        fig = px.bar(sentiment_count, x='Sentiment', y='Tweets', color='Tweets', height=500)\n",
    "        st.plotly_chart(fig)\n",
    "    else:\n",
    "        fig = px.pie(sentiment_count, values='Tweets', names='Sentiment')\n",
    "        st.plotly_chart(fig)"
   ]
  },
  {
   "cell_type": "code",
   "execution_count": 15,
   "metadata": {},
   "outputs": [],
   "source": [
    "# Sidebar options for tweet locations based on time of day\n",
    "st.sidebar.subheader(\"When and where are users tweeting from?\")\n",
    "hour = st.sidebar.slider(\"Hour to look at\", 0, 23)\n",
    "modified_data = data[data['tweet_created'].dt.hour == hour]\n",
    "if not st.sidebar.checkbox(\"Close\", True, key='1a'):\n",
    "    st.markdown(\"### Tweet locations based on time of day\")\n",
    "    st.markdown(\"%i tweets between %i:00 and %i:00\" % (len(modified_data), hour, (hour + 1) % 24))\n",
    "    st.map(modified_data)\n",
    "    if st.sidebar.checkbox(\"Show raw data\", False):\n",
    "        st.write(modified_data)"
   ]
  },
  {
   "cell_type": "code",
   "execution_count": 16,
   "metadata": {},
   "outputs": [],
   "source": [
    "# Visualization of total number of tweets for each airline\n",
    "st.sidebar.subheader(\"Total number of tweets for each airline\")\n",
    "each_airline = st.sidebar.selectbox('Visualization type', ['Bar plot', 'Pie chart'], key='2')\n",
    "airline_sentiment_count = data.groupby('airline')['airline_sentiment'].count().sort_values(ascending=False)\n",
    "airline_sentiment_count = pd.DataFrame({'Airline': airline_sentiment_count.index, 'Tweets': airline_sentiment_count.values.flatten()})\n",
    "if not st.sidebar.checkbox(\"Close\", True, key='2a'):\n",
    "    if each_airline == 'Bar plot':\n",
    "        st.subheader(\"Total number of tweets for each airline\")\n",
    "        fig_1 = px.bar(airline_sentiment_count, x='Airline', y='Tweets', color='Tweets', height=500)\n",
    "        st.plotly_chart(fig_1)\n",
    "    if each_airline == 'Pie chart':\n",
    "        st.subheader(\"Total number of tweets for each airline\")\n",
    "        fig_2 = px.pie(airline_sentiment_count, values='Tweets', names='Airline')\n",
    "        st.plotly_chart(fig_2)"
   ]
  },
  {
   "cell_type": "code",
   "execution_count": 17,
   "metadata": {},
   "outputs": [],
   "source": [
    "# Breakdown airline by sentiment\n",
    "st.sidebar.subheader(\"Breakdown airline by sentiment\")\n",
    "choice = st.sidebar.multiselect('Pick airlines', ('US Airways', 'United', 'American', 'Southwest', 'Delta', 'Virgin America'), key=0)\n",
    "if len(choice) > 0:\n",
    "    choice_data = data[data.airline.isin(choice)]\n",
    "    fig_0 = px.histogram(\n",
    "        choice_data, x='airline', y='airline_sentiment',\n",
    "        histfunc='count', color='airline_sentiment',\n",
    "        facet_col='airline_sentiment', labels={'airline_sentiment': 'tweets'},\n",
    "        height=600, width=800)\n",
    "    st.plotly_chart(fig_0)"
   ]
  },
  {
   "cell_type": "code",
   "execution_count": 18,
   "metadata": {},
   "outputs": [],
   "source": [
    "# Generate word cloud for selected sentiment\n",
    "st.sidebar.header(\"Word Cloud\")\n",
    "word_sentiment = st.sidebar.radio('Display word cloud for what sentiment?', ('positive', 'neutral', 'negative'))\n",
    "if not st.sidebar.checkbox(\"Close\", True, key='3a'):\n",
    "    st.subheader('Word cloud for %s sentiment' % (word_sentiment))\n",
    "    df = data[data['airline_sentiment'] == word_sentiment]\n",
    "    words = ' '.join(df['text'])\n",
    "    processed_words = ' '.join([word for word in words.split() if 'http' not in word and not word.startswith('@') and word != 'RT'])\n",
    "    wordcloud = WordCloud(stopwords=STOPWORDS, background_color='white', width=800, height=640).generate(processed_words)\n",
    "    plt.imshow(wordcloud)\n",
    "    plt.xticks([])\n",
    "    plt.yticks([])\n",
    "    st.pyplot()"
   ]
  }
 ],
 "metadata": {
  "kernelspec": {
   "display_name": "base",
   "language": "python",
   "name": "python3"
  },
  "language_info": {
   "codemirror_mode": {
    "name": "ipython",
    "version": 3
   },
   "file_extension": ".py",
   "mimetype": "text/x-python",
   "name": "python",
   "nbconvert_exporter": "python",
   "pygments_lexer": "ipython3",
   "version": "3.11.7"
  }
 },
 "nbformat": 4,
 "nbformat_minor": 2
}
